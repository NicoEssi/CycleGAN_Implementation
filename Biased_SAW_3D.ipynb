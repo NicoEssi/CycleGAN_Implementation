{
  "nbformat": 4,
  "nbformat_minor": 0,
  "metadata": {
    "colab": {
      "name": "Biased_SAW_3D.ipynb",
      "provenance": [],
      "collapsed_sections": [],
      "authorship_tag": "ABX9TyNiXwpg79FeemxMB9be3sjS",
      "include_colab_link": true
    },
    "kernelspec": {
      "name": "python3",
      "display_name": "Python 3"
    }
  },
  "cells": [
    {
      "cell_type": "markdown",
      "metadata": {
        "id": "view-in-github",
        "colab_type": "text"
      },
      "source": [
        "<a href=\"https://colab.research.google.com/github/NicoEssi/CycleGAN_Implementation/blob/master/Biased_SAW_3D.ipynb\" target=\"_parent\"><img src=\"https://colab.research.google.com/assets/colab-badge.svg\" alt=\"Open In Colab\"/></a>"
      ]
    },
    {
      "cell_type": "markdown",
      "metadata": {
        "id": "RKPoVGB2fgbm"
      },
      "source": [
        "# Setup"
      ]
    },
    {
      "cell_type": "code",
      "metadata": {
        "id": "O-kzqKarbig5"
      },
      "source": [
        "## Import Dependencies\n",
        "import pylab\n",
        "import os\n",
        "import math\n",
        "from pylab import *\n",
        "from mpl_toolkits.mplot3d import Axes3D\n",
        "import numpy as np\n",
        "import matplotlib.pyplot as plt\n",
        "import random\n",
        "from random import seed\n",
        "from random import randint\n",
        "from decimal import Decimal\n",
        "from collections import Counter\n",
        "\n",
        "## First Assignment\n",
        "\n",
        "# Number of runs\n",
        "n = 10000\n",
        "\n",
        "# Number of steps\n",
        "N = 100\n",
        "\n",
        "# Recorded positions\n",
        "rList = []\n",
        "\n",
        "# Number of runs\n",
        "rNumber = []"
      ],
      "execution_count": 173,
      "outputs": []
    },
    {
      "cell_type": "markdown",
      "metadata": {
        "id": "rTDc8P05fk_3"
      },
      "source": [
        "# Step Function"
      ]
    },
    {
      "cell_type": "code",
      "metadata": {
        "id": "Nd1VeR7Tbr32",
        "outputId": "78a1937c-c85e-4b50-8261-55b68b858e50",
        "colab": {
          "base_uri": "https://localhost:8080/",
          "height": 34
        }
      },
      "source": [
        "Steps = []\n",
        "times_at_finish = 0\n",
        "for ii in range(n):\n",
        "  #print(ii)\n",
        "  # Stored previous locations\n",
        "  visited = []\n",
        "  steps_taken = 0\n",
        "  prev = None\n",
        "  moved = False\n",
        "\n",
        "  # Starting position\n",
        "  posx = 0\n",
        "  posy = 0\n",
        "  posz = 0\n",
        "  #visited.append([posx, posy])\n",
        "  visited.append([posx, posy, posz]) # for 3D\n",
        "  x = []\n",
        "  y = []\n",
        "  z = []\n",
        "  x.append(posx)\n",
        "  y.append(posy)\n",
        "  z.append(posz)\n",
        "\n",
        "\n",
        "  # Take N steps in stochastic directions\n",
        "  for jj in range(N):\n",
        "    moved = False\n",
        "    if jj > N-2:\n",
        "      times_at_finish += 1\n",
        "\n",
        "    while moved == False:\n",
        "      value = random.randint(0,5)\n",
        "\n",
        "      if value == 0 and prev != 1:\n",
        "        if [posx+1, posy, posz] not in visited:\n",
        "          prev = 0\n",
        "          posx += 1\n",
        "          steps_taken += 1\n",
        "          visited.append([posx,posy, posz])\n",
        "          x.append(posx)\n",
        "          y.append(posy)\n",
        "          z.append(posz)\n",
        "          #print(\"step: \" + str(steps_taken))\n",
        "          moved = True\n",
        "        else:\n",
        "          break\n",
        "      \n",
        "      elif value == 1 and prev != 0:\n",
        "        if [posx-1, posy, posz] not in visited:\n",
        "          prev = 1\n",
        "          posx -= 1\n",
        "          steps_taken += 1\n",
        "          visited.append([posx,posy, posz])\n",
        "          x.append(posx)\n",
        "          y.append(posy)\n",
        "          z.append(posz)\n",
        "          #print(\"step: \" + str(steps_taken))\n",
        "          moved = True\n",
        "        else:\n",
        "          break\n",
        "      \n",
        "      elif value == 2 and prev != 3:\n",
        "        if [posx, posy+1, posz] not in visited:\n",
        "          prev = 2\n",
        "          posy += 1\n",
        "          steps_taken += 1\n",
        "          visited.append([posx,posy, posz])\n",
        "          x.append(posx)\n",
        "          y.append(posy)\n",
        "          z.append(posz)\n",
        "          #print(\"step: \" + str(steps_taken))\n",
        "          moved = True\n",
        "        else:\n",
        "          break\n",
        "      \n",
        "      elif value == 3 and prev != 2:\n",
        "        if [posx, posy-1, posz] not in visited:\n",
        "          prev = 3\n",
        "          posy -= 1\n",
        "          steps_taken += 1\n",
        "          visited.append([posx,posy, posz])\n",
        "          x.append(posx)\n",
        "          y.append(posy)\n",
        "          z.append(posz)\n",
        "          #print(\"step: \" + str(steps_taken))\n",
        "          moved = True\n",
        "        else:\n",
        "          break\n",
        "\n",
        "      elif value == 4 and prev != 5:\n",
        "        if [posx, posy, posz+1] not in visited:\n",
        "          prev = 4\n",
        "          posz += 1\n",
        "          steps_taken += 1\n",
        "          visited.append([posx,posy, posz])\n",
        "          x.append(posx)\n",
        "          y.append(posy)\n",
        "          z.append(posz)\n",
        "          #print(\"step: \" + str(steps_taken))\n",
        "          moved = True\n",
        "        else:\n",
        "          break\n",
        "\n",
        "      elif value == 5 and prev != 4:\n",
        "        if [posx, posy, posz-1] not in visited:\n",
        "          prev = 5\n",
        "          posz -= 1\n",
        "          steps_taken += 1\n",
        "          visited.append([posx,posy, posz])\n",
        "          x.append(posx)\n",
        "          y.append(posy)\n",
        "          z.append(posz)\n",
        "          #print(\"step: \" + str(steps_taken))\n",
        "          moved = True\n",
        "        else:\n",
        "          break\n",
        "  \n",
        "  #print(steps_taken)\n",
        "  Steps.append(steps_taken)\n",
        "  \n",
        "      #elif value == 4 and prev != 5:\n",
        "      #  prev = 4\n",
        "      #  posz += 1\n",
        "      #  steps_taken += 1\n",
        "      #  moved = True\n",
        "\n",
        "      #elif value == 5 and prev != 4:\n",
        "      #  prev = 5\n",
        "      #  posz -= 1\n",
        "      #  steps_taken += 1\n",
        "      #  moved = True\n",
        "\n",
        "    #debug\n",
        "    #if jj == 49:\n",
        "    #  print(str(ii))\n",
        "\n",
        "\n",
        "  # Squared euclidian distances\n",
        "  Rval = np.sum(np.array([posx, posy, posz]) ** 2) # add posz and posw\n",
        "\n",
        "  # Add Rval to rList as integer\n",
        "  rList.append(Rval)\n",
        "\n",
        "  # Add number of steps in this run to appropriate list\n",
        "  rNumber.append(steps_taken)\n",
        "\n",
        "print(\"finished: \" + str(times_at_finish))"
      ],
      "execution_count": 174,
      "outputs": [
        {
          "output_type": "stream",
          "text": [
            "finished: 10000\n"
          ],
          "name": "stdout"
        }
      ]
    },
    {
      "cell_type": "markdown",
      "metadata": {
        "id": "7UpJf0qKfoVo"
      },
      "source": [
        "# Visualization & Calculations"
      ]
    },
    {
      "cell_type": "code",
      "metadata": {
        "id": "IoVdIqqFfcJj",
        "outputId": "f9c6e753-039c-40ff-e914-ac3662b0cca7",
        "colab": {
          "base_uri": "https://localhost:8080/",
          "height": 316
        }
      },
      "source": [
        "# Compute values\n",
        "mean_n = np.mean(rNumber) # this is mean steps taken\n",
        "mean_v = np.mean(rList) # this is mean Rval\n",
        "p = np.log(mean_v)/np.log(mean_n) # this is p value\n",
        "\n",
        "# Print values\n",
        "print('Mean steps taken: ' + str(mean_n))\n",
        "print('Mean rVal computed: ' + str(mean_v))\n",
        "print('p-value: ' + str(p))\n",
        "\n",
        "# Visualize steps\n",
        "fig = plt.figure()\n",
        "plt.plot(x, y)\n",
        "plt.show()"
      ],
      "execution_count": 175,
      "outputs": [
        {
          "output_type": "stream",
          "text": [
            "Mean steps taken: 90.9303\n",
            "Mean rVal computed: 164.1451\n",
            "p-value: 1.1309634806304192\n"
          ],
          "name": "stdout"
        },
        {
          "output_type": "display_data",
          "data": {
            "image/png": "[encoded data removed]",
            "text/plain": [
              "<Figure size 432x288 with 1 Axes>"
            ]
          },
          "metadata": {
            "tags": [],
            "needs_background": "light"
          }
        }
      ]
    },
    {
      "cell_type": "code",
      "metadata": {
        "id": "J2e2tQcVGZ53",
        "outputId": "a81cadee-b86a-4528-fb58-831e203a3f5d",
        "colab": {
          "base_uri": "https://localhost:8080/",
          "height": 68
        }
      },
      "source": [
        "# Compute entropy\n",
        "c = Counter(Steps)\n",
        "print(\"This is c(N) \" + str(c[N]))\n",
        "w = c[N]/float(n)\n",
        "print(\"This is W \" + str(w))\n",
        "d = 2 # change to dimensions\n",
        "\n",
        "omg = w*((2*d)-1)**(N-2)\n",
        "s = np.log(omg)/float(N-2)\n",
        "print('s = ' + str(s))"
      ],
      "execution_count": 176,
      "outputs": [
        {
          "output_type": "stream",
          "text": [
            "This is c(N) 29\n",
            "This is W 0.0029\n",
            "s = 1.0389893851784187\n"
          ],
          "name": "stdout"
        }
      ]
    },
    {
      "cell_type": "code",
      "metadata": {
        "id": "z0gmNTpNll_f",
        "outputId": "d63e7bee-0c92-4607-dadb-4d86690cfc70",
        "colab": {
          "base_uri": "https://localhost:8080/",
          "height": 265
        }
      },
      "source": [
        "c = Counter(Steps) # count how many times different steps have been taken\n",
        "\n",
        "# Compute and visualize distribution\n",
        "xa = []\n",
        "ya = []\n",
        "for i in range(N+1):\n",
        "  xa.append(i)\n",
        "  ya.append(c[i])\n",
        "\n",
        "fig = plt.figure()\n",
        "plt.plot(xa, ya)\n",
        "plt.show()"
      ],
      "execution_count": 177,
      "outputs": [
        {
          "output_type": "display_data",
          "data": {
            "image/png": "[encoded data removed]",
            "text/plain": [
              "<Figure size 432x288 with 1 Axes>"
            ]
          },
          "metadata": {
            "tags": [],
            "needs_background": "light"
          }
        }
      ]
    }
  ]
}